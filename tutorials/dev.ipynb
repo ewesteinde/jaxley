{
 "cells": [
  {
   "cell_type": "code",
   "execution_count": 1093,
   "metadata": {},
   "outputs": [
    {
     "name": "stdout",
     "output_type": "stream",
     "text": [
      "The autoreload extension is already loaded. To reload it, use:\n",
      "  %reload_ext autoreload\n"
     ]
    }
   ],
   "source": [
    "%load_ext autoreload\n",
    "%autoreload 2"
   ]
  },
  {
   "cell_type": "code",
   "execution_count": 1094,
   "metadata": {},
   "outputs": [],
   "source": [
    "from jax import config\n",
    "config.update(\"jax_enable_x64\", True)\n",
    "config.update(\"jax_platform_name\", \"cpu\")\n",
    "\n",
    "import os\n",
    "os.environ[\"XLA_PYTHON_CLIENT_MEM_FRACTION\"]=\".8\""
   ]
  },
  {
   "cell_type": "code",
   "execution_count": 1095,
   "metadata": {},
   "outputs": [],
   "source": [
    "import matplotlib.pyplot as plt\n",
    "import numpy as np\n",
    "import jax.numpy as jnp\n",
    "from jax import jit, vmap, value_and_grad\n",
    "\n",
    "import jaxley as jx\n",
    "from jaxley.channels import HH\n",
    "from jaxley.synapses import IonotropicSynapse\n",
    "from jaxley_mech.channels.fm97 import Na, K, KA, KCa, Ca, Leak\n"
   ]
  },
  {
   "cell_type": "code",
   "execution_count": 1096,
   "metadata": {},
   "outputs": [],
   "source": [
    "dt = 0.025\n",
    "t_max = 100.0\n",
    "time_vec = np.arange(0, t_max+2*dt, dt)\n",
    "\n",
    "i_delay = 10.0\n",
    "i_dur = 80.0\n",
    "i_amp = 5.0  # nA\n",
    "current = jx.step_current(i_delay, i_dur, i_amp, dt, t_max)\n",
    "\n",
    "cell_id = \"20161028_1\"\n",
    "np.random.seed(0)\n",
    "\n",
    "time_vec = jnp.arange(0.0, 2*dt, dt)"
   ]
  },
  {
   "cell_type": "code",
   "execution_count": 965,
   "metadata": {},
   "outputs": [
    {
     "name": "stdout",
     "output_type": "stream",
     "text": [
      "Added 1 recordings. See `.recordings` for details.\n",
      "Added 1 stimuli. See `.currents` for details.\n"
     ]
    }
   ],
   "source": [
    "comp = jx.Compartment()\n",
    "branch = jx.Branch([comp for _ in range(4)])\n",
    "cell = jx.Cell([branch for _ in range(5)], parents=jnp.asarray([-1, 0, 1, 2, 2]))\n",
    "net = jx.Network([cell]*2)\n",
    "\n",
    "\n",
    "net.cell(0).insert(Na())\n",
    "net.cell(0).insert(Leak())\n",
    "\n",
    "net.cell(1).branch(1).insert(Na())\n",
    "net.cell(0).insert(K())\n",
    "net.compute_xyz()\n",
    "\n",
    "net.cell(0).branch(0).loc(0.0).record()\n",
    "current = jx.step_current(i_delay, i_dur, i_amp, dt, t_max)\n",
    "net.cell(0).branch(2).loc(0.0).stimulate(current)"
   ]
  },
  {
   "cell_type": "code",
   "execution_count": 1068,
   "metadata": {},
   "outputs": [],
   "source": [
    "import warnings\n",
    "import networkx as nx\n",
    "\n",
    "def to_graph(df):\n",
    "    G = nx.Graph()\n",
    "    edges = df[['parent_branch_index', 'child_branch_index']].values\n",
    "    G.add_edges_from(edges)\n",
    "    return G"
   ]
  },
  {
   "cell_type": "code",
   "execution_count": 44,
   "metadata": {},
   "outputs": [
    {
     "data": {
      "text/html": [
       "<div>\n",
       "<style scoped>\n",
       "    .dataframe tbody tr th:only-of-type {\n",
       "        vertical-align: middle;\n",
       "    }\n",
       "\n",
       "    .dataframe tbody tr th {\n",
       "        vertical-align: top;\n",
       "    }\n",
       "\n",
       "    .dataframe thead th {\n",
       "        text-align: right;\n",
       "    }\n",
       "</style>\n",
       "<table border=\"1\" class=\"dataframe\">\n",
       "  <thead>\n",
       "    <tr style=\"text-align: right;\">\n",
       "      <th></th>\n",
       "      <th>parent_branch_index</th>\n",
       "      <th>child_branch_index</th>\n",
       "    </tr>\n",
       "  </thead>\n",
       "  <tbody>\n",
       "    <tr>\n",
       "      <th>0</th>\n",
       "      <td>True</td>\n",
       "      <td>True</td>\n",
       "    </tr>\n",
       "    <tr>\n",
       "      <th>1</th>\n",
       "      <td>True</td>\n",
       "      <td>False</td>\n",
       "    </tr>\n",
       "    <tr>\n",
       "      <th>2</th>\n",
       "      <td>False</td>\n",
       "      <td>False</td>\n",
       "    </tr>\n",
       "    <tr>\n",
       "      <th>3</th>\n",
       "      <td>False</td>\n",
       "      <td>True</td>\n",
       "    </tr>\n",
       "    <tr>\n",
       "      <th>4</th>\n",
       "      <td>False</td>\n",
       "      <td>False</td>\n",
       "    </tr>\n",
       "    <tr>\n",
       "      <th>5</th>\n",
       "      <td>False</td>\n",
       "      <td>False</td>\n",
       "    </tr>\n",
       "    <tr>\n",
       "      <th>6</th>\n",
       "      <td>False</td>\n",
       "      <td>False</td>\n",
       "    </tr>\n",
       "    <tr>\n",
       "      <th>7</th>\n",
       "      <td>False</td>\n",
       "      <td>False</td>\n",
       "    </tr>\n",
       "  </tbody>\n",
       "</table>\n",
       "</div>"
      ],
      "text/plain": [
       "   parent_branch_index  child_branch_index\n",
       "0                 True                True\n",
       "1                 True               False\n",
       "2                False               False\n",
       "3                False                True\n",
       "4                False               False\n",
       "5                False               False\n",
       "6                False               False\n",
       "7                False               False"
      ]
     },
     "execution_count": 44,
     "metadata": {},
     "output_type": "execute_result"
    }
   ],
   "source": [
    "net.branch_edges.isin([0,1,4])"
   ]
  },
  {
   "cell_type": "code",
   "execution_count": 115,
   "metadata": {},
   "outputs": [],
   "source": [
    "def to_module(view):\n",
    "    warnings.warn(\"This function is experimental and may not work as expected.\")\n",
    "\n",
    "    modules = np.array([jx.Network, jx.Cell, jx.Branch, jx.Compartment])\n",
    "    indices = [\"cell_index\", \"branch_index\", \"comp_index\"]\n",
    "    num_unique_elements = view.view[indices].nunique().values\n",
    "    return_type =  modules[np.hstack((num_unique_elements > 1, np.array(True)))][0]\n",
    "\n",
    "    viewed_indices = {col: np.unique(net[:].view[col]) for col in indices}\n",
    "    \n",
    "    where_to_view_edges = view.pointer.branch_edges.isin(viewed_indices[\"branch_index\"])\n",
    "    viewed_branch_edges = view.pointer.branch_edges.loc[where_to_view_edges.any(axis=1)]\n",
    "    graph = to_graph(viewed_branch_edges)\n",
    "    \n",
    "    assert nx.is_connected(graph), \"The branches currently in view are not all connected.\"\n",
    "    assert not any(view.view[indices].duplicated()), \"View must not contain duplicates.\"\n",
    "    \n",
    "    module_instances = []\n",
    "    num_unique_elements = np.hstack([1, num_unique_elements])\n",
    "    for num, module in zip(reversed(num_unique_elements), reversed(modules)):\n",
    "        args = () \n",
    "        if module in [jx.Branch, jx.Network]:\n",
    "            args = [module_instances]\n",
    "        elif module == jx.Cell:\n",
    "            root_node_index = viewed_branch_edges[\"parent_branch_index\"].min()\n",
    "            levels = list(nx.bfs_layers(graph, root_node_index))\n",
    "            levels = [[i for i in indices if i in viewed_indices[\"branch_index\"]] for indices in levels]\n",
    "            parents = sum([[i-1]*len(level) for i, level in enumerate(levels)], [])\n",
    "            args = [module_instances, parents]\n",
    "        \n",
    "        module_instances = [module(*args) for _ in range(num)]\n",
    "        if module == return_type:\n",
    "            break\n",
    "\n",
    "    # TODO: sync module attrs\n",
    "    module = module_instances[0]\n",
    "    indices_of_viewed_elements = view.view.index\n",
    "    module.nodes = view.pointer.nodes.loc[indices_of_viewed_elements]\n",
    "    module.nodes.reset_index(drop=True, inplace=True)\n",
    "    \n",
    "    # drop columns with all nan or all False\n",
    "    module.nodes = module.nodes.dropna(axis=1)\n",
    "    module.nodes = module.nodes.loc[:, (module.nodes != 0).any()]\n",
    "    module.xyzr = np.array(view.pointer.xyzr)[viewed_indices[\"branch_index\"]].tolist()\n",
    "    edge_indices = set(view.view.index.tolist()).intersection(set(view.pointer.edges.index.tolist()))\n",
    "    module.edges = view.pointer.edges.loc[list(edge_indices)]\n",
    "    # module.xyzr = view.xyzr # <- needs to be implemented!    \n",
    "\n",
    "    module.nbranches_per_cell = view.pointer.nbranches_per_cell[viewed_indices[\"cell_index\"]]\n",
    "    module.total_nbranches = sum(module.nbranches_per_cell)\n",
    "    module.cumsum_nbranches = np.cumsum([0] + module.nbranches_per_cell.tolist())\n",
    "    module.comb_parents = view.pointer.comb_parents[viewed_indices[\"branch_index\"]]\n",
    "    # module.comb_branches_in_each_level \n",
    "    # module.initialized_morph\n",
    "    # module.initialized_syns\n",
    "    # module.synapses\n",
    "    # module.synapse_param_names\n",
    "    # module.synapse_state_names\n",
    "    # module.synapse_names\n",
    "    # module.channels\n",
    "    # module.membrane_current_names\n",
    "    # module.indices_set_by_trainables\n",
    "    # module.trainable_params\n",
    "    # module.allow_make_trainable\n",
    "    # module.num_trainable_params\n",
    "    # module.recordings\n",
    "    # module.currents\n",
    "    # module.current_inds\n",
    "    # module.cells\n",
    "    # module.branch_edges\n",
    "    # module.initialized_conds\n",
    "    return module"
   ]
  },
  {
   "cell_type": "code",
   "execution_count": 117,
   "metadata": {},
   "outputs": [
    {
     "name": "stderr",
     "output_type": "stream",
     "text": [
      "/tmp/ipykernel_723912/3755048444.py:2: UserWarning: This function is experimental and may not work as expected.\n",
      "  warnings.warn(\"This function is experimental and may not work as expected.\")\n"
     ]
    },
    {
     "ename": "TypeError",
     "evalue": "only integer scalar arrays can be converted to a scalar index",
     "output_type": "error",
     "traceback": [
      "\u001b[0;31m---------------------------------------------------------------------------\u001b[0m",
      "\u001b[0;31mTypeError\u001b[0m                                 Traceback (most recent call last)",
      "Cell \u001b[0;32mIn[117], line 1\u001b[0m\n\u001b[0;32m----> 1\u001b[0m \u001b[43mto_module\u001b[49m\u001b[43m(\u001b[49m\u001b[43mnet\u001b[49m\u001b[43m[\u001b[49m\u001b[38;5;241;43m0\u001b[39;49m\u001b[43m,\u001b[49m\u001b[38;5;241;43m0\u001b[39;49m\u001b[43m,\u001b[49m\u001b[38;5;241;43m0\u001b[39;49m\u001b[43m]\u001b[49m\u001b[43m)\u001b[49m\n",
      "Cell \u001b[0;32mIn[115], line 49\u001b[0m, in \u001b[0;36mto_module\u001b[0;34m(view)\u001b[0m\n\u001b[1;32m     46\u001b[0m module\u001b[38;5;241m.\u001b[39medges \u001b[38;5;241m=\u001b[39m view\u001b[38;5;241m.\u001b[39mpointer\u001b[38;5;241m.\u001b[39medges\u001b[38;5;241m.\u001b[39mloc[\u001b[38;5;28mlist\u001b[39m(edge_indices)]\n\u001b[1;32m     47\u001b[0m \u001b[38;5;66;03m# module.xyzr = view.xyzr # <- needs to be implemented!    \u001b[39;00m\n\u001b[0;32m---> 49\u001b[0m module\u001b[38;5;241m.\u001b[39mnbranches_per_cell \u001b[38;5;241m=\u001b[39m \u001b[43mview\u001b[49m\u001b[38;5;241;43m.\u001b[39;49m\u001b[43mpointer\u001b[49m\u001b[38;5;241;43m.\u001b[39;49m\u001b[43mnbranches_per_cell\u001b[49m\u001b[43m[\u001b[49m\u001b[43mviewed_indices\u001b[49m\u001b[43m[\u001b[49m\u001b[38;5;124;43m\"\u001b[39;49m\u001b[38;5;124;43mcell_index\u001b[39;49m\u001b[38;5;124;43m\"\u001b[39;49m\u001b[43m]\u001b[49m\u001b[43m]\u001b[49m\n\u001b[1;32m     50\u001b[0m module\u001b[38;5;241m.\u001b[39mtotal_nbranches \u001b[38;5;241m=\u001b[39m \u001b[38;5;28msum\u001b[39m(module\u001b[38;5;241m.\u001b[39mnbranches_per_cell)\n\u001b[1;32m     51\u001b[0m module\u001b[38;5;241m.\u001b[39mcumsum_nbranches \u001b[38;5;241m=\u001b[39m np\u001b[38;5;241m.\u001b[39mcumsum([\u001b[38;5;241m0\u001b[39m] \u001b[38;5;241m+\u001b[39m module\u001b[38;5;241m.\u001b[39mnbranches_per_cell\u001b[38;5;241m.\u001b[39mtolist())\n",
      "\u001b[0;31mTypeError\u001b[0m: only integer scalar arrays can be converted to a scalar index"
     ]
    }
   ],
   "source": [
    "to_module(net[0,0,0])"
   ]
  },
  {
   "cell_type": "code",
   "execution_count": 12,
   "metadata": {},
   "outputs": [],
   "source": [
    "# def get_connections(net):\n",
    "#     def get_global_comp_indices(loc):\n",
    "#         get_cols = lambda loc: [f\"{loc}_locs\", f\"{loc}_branch_index\", f\"{loc}_cell_index\"]\n",
    "#         cols = get_cols(loc)\n",
    "#         edges = net.edges[cols]\n",
    "#         locs = edges[cols[1]].values.astype(float)\n",
    "#         branch_indices, cell_indices = edges[cols[1:]].values.T.astype(int)\n",
    "#         comp_ind_from_loc = lambda x: index_of_loc(np.zeros_like(x),x, net.nseg)\n",
    "#         comp_indices = np.array(list(map(comp_ind_from_loc, locs)))\n",
    "#         global_comp_indices = net._local_inds_to_global(cell_indices, branch_indices, comp_indices)\n",
    "#         return global_comp_indices\n",
    "\n",
    "#     global_pre_comp_indices = get_global_comp_indices(\"pre\")\n",
    "#     global_post_comp_indices = get_global_comp_indices(\"post\")\n",
    "\n",
    "#     syn_types = net.edges[\"type\"].values.astype(str)\n",
    "#     syn_ids = [net.cell._infer_synapse_type_ind(syn_type)[0] for syn_type in syn_types]\n",
    "#     synapses = [net.synapses[syn_id] for syn_id in syn_ids]\n",
    "#     return global_pre_comp_indices, global_post_comp_indices, synapses\n",
    "\n",
    "# pre, post, syns = get_connections(net)\n",
    "# # pre_view = net_copy[:].view.loc[pre_global_comp_indices]\n",
    "# # post_view = net_copy[:].view.loc[post_global_comp_indices]"
   ]
  },
  {
   "cell_type": "code",
   "execution_count": null,
   "metadata": {},
   "outputs": [],
   "source": [
    "cell = jx.read_swc(f\"../../jaxley_experiments/nex/rgc/morphologies/{cell_id}.swc\", nseg=4, max_branch_len=300.0, min_radius=5.0)\n",
    "cell.compute_xyz()\n",
    "cell._update_nodes_with_xyz()\n",
    "cell.nodes"
   ]
  },
  {
   "cell_type": "code",
   "execution_count": null,
   "metadata": {},
   "outputs": [],
   "source": [
    "# comp = jx.Compartment()\n",
    "# comp.compute_xyz()\n",
    "# comp.update_nodes_with_xyz()\n",
    "\n",
    "# print(comp.nodes[[\"x\", \"y\", \"z\"]])\n",
    "# print(comp.xyzr)\n",
    "\n",
    "# cell = jx.read_swc(f\"../../jaxley_experiments/nex/rgc/morphologies/{cell_id}.swc\", nseg=4, max_branch_len=300.0, min_radius=5.0)"
   ]
  },
  {
   "cell_type": "markdown",
   "metadata": {},
   "source": [
    "# misc ideas and Qs:\n",
    "- merge `syn_edges` and `branch_edges` -> edges and replace branch_edge by \"type=branch\" label, why does base have `edges` and comp has `syn_edges` and `branch_edges`?\n",
    "- connect should only have to update list of edges!\n",
    "- what is the reasoning of having comp be a float. I find this counterintuitive since it's discrete. If only important for plotting, then we should only have this in plotting too."
   ]
  },
  {
   "cell_type": "code",
   "execution_count": null,
   "metadata": {},
   "outputs": [],
   "source": [
    "comp = jx.Compartment()\n",
    "branch = jx.Branch([comp for _ in range(4)])\n",
    "cell = jx.Cell([branch for _ in range(5)], parents=jnp.asarray([-1, 0, 0, 1, 1]))\n",
    "network = jx.Network([cell for _ in range(5)])\n",
    "\n",
    "network.cell(0).connect(network.cell(1), GlutamateSynapse)\n",
    "network.cell(1).connect(network.cell(2), GlutamateSynapse)\n"
   ]
  },
  {
   "cell_type": "code",
   "execution_count": null,
   "metadata": {},
   "outputs": [],
   "source": [
    "type(GlutamateSynapse())"
   ]
  },
  {
   "cell_type": "code",
   "execution_count": null,
   "metadata": {},
   "outputs": [],
   "source": [
    "network.cell(0)"
   ]
  },
  {
   "cell_type": "code",
   "execution_count": null,
   "metadata": {},
   "outputs": [],
   "source": [
    "network.edges"
   ]
  },
  {
   "cell_type": "code",
   "execution_count": null,
   "metadata": {},
   "outputs": [],
   "source": [
    "# \"20170610_1\" is a t-off-mini\n",
    "# \"20161028_1\" is a t-off-alpha\n",
    "cell_id = \"20161028_1\"\n",
    "\n",
    "if cell_id == \"20161028_1\":\n",
    "    soma_branch = 1\n",
    "    dendrite_branch = 50\n",
    "elif cell_id == \"20170610_1\":\n",
    "    soma_branch = 0\n",
    "    dendrite_branch = 70\n",
    "else:\n",
    "    raise ValueError\n",
    "\n",
    "\n",
    "cell = jx.read_swc(f\"../../jaxley_experiments/nex/rgc/morphologies/{cell_id}.swc\", nseg=4, max_branch_len=300.0, min_radius=5.0)\n",
    "\n",
    "cell.insert(HH())\n",
    "cell.insert(KA())\n",
    "cell.insert(Ca())\n",
    "cell.insert(KCa())\n",
    "\n",
    "cell.set(\"v\", -65.0)\n",
    "cell.init_states()\n",
    "\n",
    "cell.delete_trainables()\n",
    "\n",
    "cell.delete_stimuli()\n",
    "cell.delete_recordings()\n",
    "\n",
    "cell.branch(soma_branch).loc(0.4).stimulate(current)\n",
    "cell.branch(soma_branch).loc(0.4).record()\n",
    "cell.branch(dendrite_branch).loc(1.0).record()"
   ]
  },
  {
   "cell_type": "code",
   "execution_count": null,
   "metadata": {},
   "outputs": [],
   "source": [
    "dims=[0,1]\n",
    "soma = cell.xyzr[1][0]\n",
    "fig, ax = plt.subplots(1, 1, figsize=(4, 4))\n",
    "dmin, dmax = 0, 182\n",
    "for i in np.unique(cell.show()[\"branch_index\"]):\n",
    "    xyzr = cell.xyzr[i]\n",
    "    d = np.sqrt(np.sum((xyzr[:, dims] - soma[dims])**2, axis=1)).mean()\n",
    "    c = np.array(plt.cm.viridis((d-dmin)/(dmax-dmin)))\n",
    "    cell.branch(i).vis(col=c, ax=ax, dims=dims)\n",
    "plt.show()"
   ]
  },
  {
   "cell_type": "code",
   "execution_count": null,
   "metadata": {},
   "outputs": [],
   "source": [
    "cell.branch(dendrite_branch).show()"
   ]
  },
  {
   "cell_type": "code",
   "execution_count": 188,
   "metadata": {},
   "outputs": [
    {
     "name": "stdout",
     "output_type": "stream",
     "text": [
      "274 ms ± 5.06 ms per loop (mean ± std. dev. of 7 runs, 1 loop each)\n"
     ]
    }
   ],
   "source": [
    "# global_post_indices = post_cell_view.view.groupby(\"cell_index\").sample(num_pre, replace=True).index.to_numpy()        \n",
    "# global_post_indices = global_post_indices.reshape((-1, num_pre), order=\"F\").ravel()"
   ]
  },
  {
   "cell_type": "code",
   "execution_count": null,
   "metadata": {},
   "outputs": [],
   "source": [
    "cell = jx.read_swc(f\"../../jaxley_experiments/nex/rgc/morphologies/{cell_id}.swc\", nseg=4, max_branch_len=300.0, min_radius=5.0)\n",
    "cell.compute_xyz()\n",
    "cell._update_nodes_with_xyz()\n",
    "cell.nodes"
   ]
  },
  {
   "cell_type": "code",
   "execution_count": null,
   "metadata": {},
   "outputs": [],
   "source": [
    "# comp = jx.Compartment()\n",
    "# comp.compute_xyz()\n",
    "# comp.update_nodes_with_xyz()\n",
    "\n",
    "# print(comp.nodes[[\"x\", \"y\", \"z\"]])\n",
    "# print(comp.xyzr)\n",
    "\n",
    "# cell = jx.read_swc(f\"../../jaxley_experiments/nex/rgc/morphologies/{cell_id}.swc\", nseg=4, max_branch_len=300.0, min_radius=5.0)"
   ]
  },
  {
   "cell_type": "markdown",
   "metadata": {},
   "source": [
    "# misc ideas and Qs:\n",
    "- merge `syn_edges` and `branch_edges` -> edges and replace branch_edge by \"type=branch\" label, why does base have `edges` and comp has `syn_edges` and `branch_edges`?\n",
    "- connect should only have to update list of edges!\n",
    "- what is the reasoning of having comp be a float. I find this counterintuitive since it's discrete. If only important for plotting, then we should only have this in plotting too."
   ]
  },
  {
   "cell_type": "code",
   "execution_count": null,
   "metadata": {},
   "outputs": [],
   "source": [
    "comp = jx.Compartment()\n",
    "branch = jx.Branch([comp for _ in range(4)])\n",
    "cell = jx.Cell([branch for _ in range(5)], parents=jnp.asarray([-1, 0, 0, 1, 1]))\n",
    "network = jx.Network([cell for _ in range(5)])\n",
    "\n",
    "network.cell(0).connect(network.cell(1), GlutamateSynapse)\n",
    "network.cell(1).connect(network.cell(2), GlutamateSynapse)\n"
   ]
  },
  {
   "cell_type": "code",
   "execution_count": null,
   "metadata": {},
   "outputs": [],
   "source": [
    "type(GlutamateSynapse())"
   ]
  },
  {
   "cell_type": "code",
   "execution_count": null,
   "metadata": {},
   "outputs": [],
   "source": [
    "network.cell(0)"
   ]
  },
  {
   "cell_type": "code",
   "execution_count": null,
   "metadata": {},
   "outputs": [],
   "source": [
    "network.edges"
   ]
  },
  {
   "cell_type": "code",
   "execution_count": null,
   "metadata": {},
   "outputs": [],
   "source": [
    "# \"20170610_1\" is a t-off-mini\n",
    "# \"20161028_1\" is a t-off-alpha\n",
    "cell_id = \"20161028_1\"\n",
    "\n",
    "if cell_id == \"20161028_1\":\n",
    "    soma_branch = 1\n",
    "    dendrite_branch = 50\n",
    "elif cell_id == \"20170610_1\":\n",
    "    soma_branch = 0\n",
    "    dendrite_branch = 70\n",
    "else:\n",
    "    raise ValueError\n",
    "\n",
    "\n",
    "cell = jx.read_swc(f\"../../jaxley_experiments/nex/rgc/morphologies/{cell_id}.swc\", nseg=4, max_branch_len=300.0, min_radius=5.0)\n",
    "\n",
    "cell.insert(HH())\n",
    "cell.insert(KA())\n",
    "cell.insert(Ca())\n",
    "cell.insert(KCa())\n",
    "\n",
    "cell.set(\"v\", -65.0)\n",
    "cell.init_states()\n",
    "\n",
    "cell.delete_trainables()\n",
    "\n",
    "cell.delete_stimuli()\n",
    "cell.delete_recordings()\n",
    "\n",
    "cell.branch(soma_branch).loc(0.4).stimulate(current)\n",
    "cell.branch(soma_branch).loc(0.4).record()\n",
    "cell.branch(dendrite_branch).loc(1.0).record()"
   ]
  },
  {
   "cell_type": "code",
   "execution_count": null,
   "metadata": {},
   "outputs": [],
   "source": [
    "dims=[0,1]\n",
    "soma = cell.xyzr[1][0]\n",
    "fig, ax = plt.subplots(1, 1, figsize=(4, 4))\n",
    "dmin, dmax = 0, 182\n",
    "for i in np.unique(cell.show()[\"branch_index\"]):\n",
    "    xyzr = cell.xyzr[i]\n",
    "    d = np.sqrt(np.sum((xyzr[:, dims] - soma[dims])**2, axis=1)).mean()\n",
    "    c = np.array(plt.cm.viridis((d-dmin)/(dmax-dmin)))\n",
    "    cell.branch(i).vis(col=c, ax=ax, dims=dims)\n",
    "plt.show()"
   ]
  },
  {
   "cell_type": "code",
   "execution_count": null,
   "metadata": {},
   "outputs": [],
   "source": [
    "cell.branch(dendrite_branch).show()"
   ]
  }
 ],
 "metadata": {
  "kernelspec": {
   "display_name": "jaxley",
   "language": "python",
   "name": "python3"
  },
  "language_info": {
   "codemirror_mode": {
    "name": "ipython",
    "version": 3
   },
   "file_extension": ".py",
   "mimetype": "text/x-python",
   "name": "python",
   "nbconvert_exporter": "python",
   "pygments_lexer": "ipython3",
   "version": "3.12.1"
  }
 },
 "nbformat": 4,
 "nbformat_minor": 2
}
